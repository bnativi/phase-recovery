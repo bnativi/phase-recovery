{
 "cells": [
  {
   "cell_type": "markdown",
   "metadata": {},
   "source": [
    "# Compute Phase using Iterative Relative Phase Measurements\n",
    "#### Ben Nativi with Professor Calderbank\n",
    "\n",
    "The goal of this program is to find the eigenbases for the maximal commutative subgroups Sa and Ta for the Heisenberg-Weyl Group $HW_N$ given some choice of binary tuple a of length m.\n",
    "\n",
    "This version of the program relies on an algorithm designed by Trung Can."
   ]
  },
  {
   "cell_type": "markdown",
   "metadata": {},
   "source": [
    "### Useful np functions\n",
    "np.array( [ [], [] ] )\n",
    "\n",
    "np.matmul(matrix1, matrix2)\n",
    "\n",
    "np.kron(matrix1, matrix2)\n",
    "\n",
    "np.transpose(matrix)\n",
    "\n",
    "np.linalg.eig(matrix) outputs: eigenvalue array, normalized eigenvector array \n",
    "https://docs.scipy.org/doc/numpy-1.15.1/reference/generated/numpy.linalg.eig.html\n",
    "\n",
    "numpy.diag(v, k=0)[source] \n",
    "https://docs.scipy.org/doc/numpy-1.13.0/reference/generated/numpy.diag.html\n",
    "\n",
    "numpy.identity(m)\n",
    "\n",
    "numpy.zeros( (m,m) )"
   ]
  },
  {
   "cell_type": "markdown",
   "metadata": {},
   "source": [
    "# Helper Functions\n",
    "\n",
    "The list of helper functions is:\n",
    "\n",
    "reverseBin(binary)\n",
    "\n",
    "intToBin(num,N)\n",
    "\n",
    "binToInt(binary)\n",
    "\n",
    "xorInt(one, two)\n",
    "\n",
    "--------------------\n",
    "D(a,b)\n",
    "\n",
    "E(a,b)\n",
    "\n",
    "createOmega_a(aBin,N)\n",
    "\n",
    "createNOmega_a(aBin,N)\n",
    "\n",
    "--------------------\n",
    "validA(a,m)\n",
    "\n",
    "--------------------\n",
    "sympInProd(a,b,m)\n",
    "\n",
    "makeHN(m)\n",
    "\n",
    "makeIN(m)\n",
    "\n",
    "--------------------\n",
    "getQSa(a,m)\n",
    "\n",
    "getPSa(a,m)\n",
    "\n",
    "getPTa(a,m)\n",
    "\n",
    "--------------------\n",
    "diagTP(P,m)\n",
    "\n",
    "permQ(Q,m)\n",
    "\n",
    "getGk(k,m)\n",
    "\n",
    "-------------------\n",
    "check(one, two)\n",
    "\n",
    "cleanUp(matrix)\n",
    "\n",
    "cleanUp2(matrix)\n",
    "\n",
    "roundComplex(complexNum)\n",
    "\n",
    "-------------------\n",
    "getSaTaBases(a,m)\n",
    "\n",
    "-------------------\n",
    "sympTP(P,m)\n",
    "\n",
    "sympAQ(Q,m)\n",
    "\n",
    "sympGk(k,m)\n",
    "\n",
    "get_c(aBin,bBin,m,G)\n",
    "\n",
    "-------------------\n",
    "extra(aBin,bBin)\n",
    "\n",
    "buildEigvalMat(a,m)\n",
    "\n",
    "buildEigvec(x,a,m) - no longer needed\n",
    "\n",
    "relativePhase(x,a,m) - no longer needed\n",
    "\n",
    "check3(vec1,vec2)\n",
    "\n",
    "getPhase(vec) - no longer needed\n",
    "\n",
    "-------------------\n",
    "complexRandomNoise(deviation)\n",
    "\n",
    "generateX(size,magnitude)\n",
    "\n",
    "buildEigvecNoise(x,a,m,deviation)\n",
    "\n",
    "relativePhaseNoise(x,a,m,deviation)\n",
    "\n",
    "getPhaseNoise(x,deviation)\n",
    "\n",
    "testAlgForVariance(trials,size,magnitude,deviation)\n",
    "\n",
    "testRelPhasForVariance(trials,m,magnitude,deviation)\n",
    "\n",
    "-------------------\n",
    "getPhaseNoiseOpt(x,deviation)\n",
    "\n",
    "testOptAlgCorrectness(trials,size,magnitude,deviation)\n",
    "\n",
    "testOptAlgForVariance(trials,size,magnitude,deviation)"
   ]
  },
  {
   "cell_type": "markdown",
   "metadata": {
    "collapsed": true
   },
   "source": [
    "-------------\n",
    "### NOTE\n",
    "#### mean squared error only depends on the ratio mag^2/dev\n",
    "For a given ratio, the mean squared error always follows the same pattern.  For the original algorithm, the mean squared error increases by 30-50% with each increment of m, and with optimized algorithm (modifying signal), the mean squared error increases by 5-10% with each increment increasing m.\n",
    "\n",
    "Also the optimized algorithm in all cases performes approximately 3x better than the original algorithm."
   ]
  },
  {
   "cell_type": "code",
   "execution_count": 1,
   "metadata": {},
   "outputs": [],
   "source": [
    "#imports\n",
    "\n",
    "# Tell Python to include plots as embedded graphics.\n",
    "%matplotlib inline\n",
    "\n",
    "# Import plotting, numpy, and library commands\n",
    "import matplotlib.pyplot as plt\n",
    "import numpy as np\n",
    "import math\n",
    "import random as r\n",
    "from tqdm import tqdm_notebook as tqdm\n",
    "import time\n",
    "r.seed(1717)\n",
    "np.random.seed(1717);\n",
    "\n",
    "font = {'family' : 'sans-serif',\n",
    "        'weight' : 'normal',\n",
    "        'size'   : 16}\n",
    "\n",
    "plt.rc('font', **font)\n",
    "\n",
    "from scipy.stats import chisquare\n",
    "\n",
    "import sympy # for finding linearly independent rows to get generating set\n",
    "\n",
    "import itertools # used for combinations and permutations"
   ]
  },
  {
   "cell_type": "code",
   "execution_count": 2,
   "metadata": {},
   "outputs": [],
   "source": [
    "# methods used for phase recovery\n",
    "from utils.binary_operations import *\n",
    "from utils.random import *\n",
    "\n",
    "from utils.heisenberg_weyl_methods import *\n",
    "from utils.relative_phase import *\n",
    "from utils.relative_phase_noise import *\n",
    "\n",
    "from utils.get_phase_original_noiseless import *\n",
    "from utils.get_phase_original_noise import *\n",
    "from utils.get_phase_ASMT import *\n",
    "from utils.get_phase_bipartite import *\n",
    "\n",
    "from utils.test1 import *\n",
    "from utils.test2 import *\n",
    "from utils.simulations1 import *"
   ]
  },
  {
   "cell_type": "code",
   "execution_count": 3,
   "metadata": {},
   "outputs": [],
   "source": [
    "run = 0 #testing get_phase_original and get_phase_noise\n",
    "if run:\n",
    "    for i in range(10):\n",
    "        x = generate_x_uniform(16, 100000)\n",
    "    #     print(x)\n",
    "        x_hat = get_phase_noise(x,0.001)\n",
    "    #     print(x_hat)\n",
    "        check3(x,x_hat)"
   ]
  },
  {
   "cell_type": "code",
   "execution_count": 4,
   "metadata": {},
   "outputs": [],
   "source": [
    "#Test code for get_phase_noise\n",
    "\n",
    "run = 0 #controls whether the test code runs, set to 1 to run this code\n",
    "\n",
    "if (run):\n",
    "    deviation = 0.1\n",
    "    #test 1\n",
    "    x = [ 2, -1, 1-1j, 1j]\n",
    "    v = getPhaseNoise(x,deviation)\n",
    "    print(x)\n",
    "    print(v)\n",
    "    print\n",
    "\n",
    "    #test 2\n",
    "    x = [ 1, 2, 1j, 3j, -1, -5, -1j, -7j]\n",
    "    v = getPhaseNoise(x,deviation)\n",
    "    print(x)\n",
    "    print(v)\n",
    "    print\n",
    "\n",
    "#     #test 3\n",
    "#     #vector of length 512\n",
    "    x = [ 1, 2, -1j, 3j, -1, -5, -1j, -7j, 1, 2+2j, 1j, 3j, -1, -5, -1j, -7j, 1-4j, -2, 1j, 3j, -3, -5, -1j, -7j, 1, 2+7j, 1j, 3j, -1, -5, -1j, -7j, 1, 2, -1j, 3j, -1, -5, -1j, -7j, 1, 2+2j, 1j, 3j, -1, -5, -1j, -7j, 1-4j, -2, 1j, 3j, -3, -5, -1j, -7j, 1, 2+7j, 1j, 3j, -1, -5, -1j, -7j, 1, 2, -1j, 3j, -1, -5, -1j, -7j, 1+122j, 2+2j, 1j, 3j, -1, -5+9j, -1j, -7j, 1-4j, -2, 1j, 3j, -3, -5, -1j, -7j, 1, 2+7j, 1j, 3j, -1, -5, -1j, -7j, 1, 2, -1j, 3j, -1, -5, -1j, -7j, -1, 2+2j, 1j, 3j, -4, -5, -1j, -7j, 1-4j, -2, 1j, 3j, -5, -5, -1j, -7j, 1, 2+7j, 1j, 3j, -1, -5, -1j, -7j, 1, 2, -1j, 3j, -1, -5, -1j, -7j, 1, 2+2j, 1j, 3j, -1, -5, -1j, -7j, 1-4j, -2, 1j, 3j, -3, -5, -1j, -7j, 1, 2+7j, 1j, 3j, -1, -5, -1j, -7j, 1, 2, -1j, 3j, -1, -5, -1j, -7j, 1, 2+2j, 1j, 3j, -1, -5, -1j, -7j, 1-4j, -2, 1j, 3j, -3, -5, -1j, -7j, 1, 2+7j, 1j, 3j, -1, -5, -1j, -7j, 1, 2, -1j, 3j, -1, -5, -1j, -7j, 1+122j, 2+2j, 1j, 3j, -1, -5+9j, -1j, -7j, 1-4j, -2, 1j, 3j, -3, -5, -1j, -7j, 1, 2+7j, 1j, 3j, -1, -5, -1j, -7j, 1, 2, -1j, 3j, -1, -5, -1j, -7j, -1, 2+2j, 1j, 3j, -4, -5, -1j, -7j, 1-4j, -2, 1j, 3j, -5, -5, -1j, -7j, 1, 2+7j, 1j, 3j, -1, -5, -1j, -7j, 1, 2, -1j, 3j, -1, -5, -1j, -7j, 1, 2+2j, 1j, 3j, -1, -5, -1j, -7j, 1-4j, -2, 1j, 3j, -3, -5, -1j, -7j, 1, 2+7j, 1j, 3j, -1, -5, -1j, -7j, 1, 2, -1j, 3j, -1, -5, -1j, -7j, 1, 2+2j, 1j, 3j, -1, -5, -1j, -7j, 1-4j, -2, 1j, 3j, -3, -5, -1j, -7j, 1, 2+7j, 1j, 3j, -1, -5, -1j, -7j, 1, 2, -1j, 3j, -1, -5, -1j, -7j, 1+122j, 2+2j, 1j, 3j, -1, -5+9j, -1j, -7j, 1-4j, -2, 1j, 3j, -3, -5, -1j, -7j, 1, 2+7j, 1j, 3j, -1, -5, -1j, -7j, 1, 2, -1j, 3j, -1, -5, -1j, -7j, -1, 2+2j, 1j, 3j, -4, -5, -1j, -7j, 1-4j, -2, 1j, 3j, -5, -5, -1j, -7j, 1, 2+7j, 1j, 3j, -1, -5, -1j, -7j, 1, 2, -1j, 3j, -1, -5, -1j, -7j, 1, 2+2j, 1j, 3j, -1, -5, -1j, -7j, 1-4j, -2, 1j, 3j, -3, -5, -1j, -7j, 1, 2+7j, 1j, 3j, -1, -5, -1j, -7j, 1, 2, -1j, 3j, -1, -5, -1j, -7j, 1, 2+2j, 1j, 3j, -1, -5, -1j, -7j, 1-4j, -2, 1j, 3j, -3, -5, -1j, -7j, 1, 2+7j, 1j, 3j, -1, -5, -1j, -7j, 1, 2, -1j, 3j, -1, -5, -1j, -7j, 1+122j, 2+2j, 1j, 3j, -1, -5+9j, -1j, -7j, 1-4j, -2, 1j, 3j, -3, -5, -1j, -7j, 1, 2+7j, 1j, 3j, -1, -5, -1j, -7j, 1, 2, -1j, 3j, -1, -5, -1j, -7j, -1, 2+2j, 1j, 3j, -4, -5, -1j, -7j, 1-4j, -2, 1j, 3j, -5, -5, -1j, -7j, 1, 2+7j, 1j, 3j, -1, -5, -1j, -7j]\n",
    "    v = getPhase(x)\n",
    "    check3(v,x)\n",
    "    print"
   ]
  },
  {
   "cell_type": "code",
   "execution_count": 5,
   "metadata": {},
   "outputs": [],
   "source": [
    "#Test code for the effects of Gaussian noise on our computations of phase\n",
    "\n",
    "run = 0 #controls whether the test code runs, set to 1 to run this code\n",
    "\n",
    "if (run):\n",
    "    trials = 1000\n",
    "    magnitude = 1\n",
    "    deviation = 1\n",
    "    \n",
    "    print(testAlgForVariance(trials, 4, magnitude, deviation))\n",
    "    print()\n",
    "    \n",
    "    print(\"====================================================\")\n",
    "    print(testAlgForVariance(trials, 8, magnitude, deviation))\n",
    "    print()\n",
    "        \n",
    "    print(\"====================================================\")\n",
    "    print(testAlgForVariance(trials, 16, magnitude, deviation))\n",
    "    print()"
   ]
  },
  {
   "cell_type": "code",
   "execution_count": 6,
   "metadata": {},
   "outputs": [],
   "source": [
    "#Test code for the effects of Gaussian noise on our computations of RELATIVE PHASE\n",
    "\n",
    "#NOTES\n",
    "# magnitude and trials do not affect results, which is as desired\n",
    "# the variances of entries seem to be increasing with the size of the vector at a quadratic rate\n",
    "# the variance for a vector of length n appears to be n^2\n",
    "\n",
    "run = 0 #controls whether the test code runs, set to 1 to run this code\n",
    "\n",
    "if (run):\n",
    "    a = 1\n",
    "    trials = 1000\n",
    "    magnitude = 1\n",
    "    deviation = 1\n",
    "    \n",
    "    print(testRelPhasForVariance(trials,1,magnitude,deviation))\n",
    "    \n",
    "    print(\"====================================================\")\n",
    "    print(testRelPhasForVariance(trials,2,magnitude,deviation))\n",
    "    \n",
    "    print(\"====================================================\")\n",
    "    print(testRelPhasForVariance(trials,3,magnitude,deviation))\n",
    "        \n",
    "    print(\"====================================================\")\n",
    "    print(testRelPhasForVariance(trials,4,magnitude,deviation))"
   ]
  },
  {
   "cell_type": "code",
   "execution_count": 7,
   "metadata": {},
   "outputs": [],
   "source": [
    "# code to check that getPhaseNoiseNew correctly returns x when there is no noise\n",
    "# appears that the new optimized getPhaseNoiseNew method correctly computed x on 2/12/19\n",
    "\n",
    "run = 0\n",
    "\n",
    "if (run):\n",
    "    trials = 1000\n",
    "    magnitude = 10\n",
    "    deviation = 1\n",
    "    \n",
    "    print(testOptAlgCorrectness(trials,4,magnitude,0))\n",
    "    print(testOptAlgCorrectness(trials,4,magnitude,deviation))"
   ]
  },
  {
   "cell_type": "code",
   "execution_count": 8,
   "metadata": {},
   "outputs": [
    {
     "name": "stdout",
     "output_type": "stream",
     "text": [
      "trials = 100\n",
      "magnitude = 1\n",
      "deviation = 1e-14\n",
      "m = 1\n"
     ]
    },
    {
     "data": {
      "application/vnd.jupyter.widget-view+json": {
       "model_id": "1d7fe5b7ed384d51be40efa0939d75dd",
       "version_major": 2,
       "version_minor": 0
      },
      "text/plain": [
       "HBox(children=(IntProgress(value=0), HTML(value='')))"
      ]
     },
     "metadata": {},
     "output_type": "display_data"
    },
    {
     "name": "stdout",
     "output_type": "stream",
     "text": [
      "\n",
      "2.193881574022741e-14\n"
     ]
    },
    {
     "data": {
      "application/vnd.jupyter.widget-view+json": {
       "model_id": "ccde83dd277c403999d008064f6aead8",
       "version_major": 2,
       "version_minor": 0
      },
      "text/plain": [
       "HBox(children=(IntProgress(value=0), HTML(value='')))"
      ]
     },
     "metadata": {},
     "output_type": "display_data"
    },
    {
     "name": "stdout",
     "output_type": "stream",
     "text": [
      "\n",
      "1.2179487944821675e-14\n",
      "--------------------------------------------------------\n",
      "m = 2\n"
     ]
    },
    {
     "data": {
      "application/vnd.jupyter.widget-view+json": {
       "model_id": "1f3ef1e2b15d4621ad4c30c119b37a4d",
       "version_major": 2,
       "version_minor": 0
      },
      "text/plain": [
       "HBox(children=(IntProgress(value=0), HTML(value='')))"
      ]
     },
     "metadata": {},
     "output_type": "display_data"
    },
    {
     "name": "stdout",
     "output_type": "stream",
     "text": [
      "\n",
      "2.369780325842771e-14\n"
     ]
    },
    {
     "data": {
      "application/vnd.jupyter.widget-view+json": {
       "model_id": "bf32f8a6ac18437ba6441363976e97a8",
       "version_major": 2,
       "version_minor": 0
      },
      "text/plain": [
       "HBox(children=(IntProgress(value=0), HTML(value='')))"
      ]
     },
     "metadata": {},
     "output_type": "display_data"
    },
    {
     "name": "stdout",
     "output_type": "stream",
     "text": [
      "\n",
      "1.4171684430349416e-14\n",
      "--------------------------------------------------------\n",
      "m = 3\n"
     ]
    },
    {
     "data": {
      "application/vnd.jupyter.widget-view+json": {
       "model_id": "a34042b82f744b66b9d15f053c836a1f",
       "version_major": 2,
       "version_minor": 0
      },
      "text/plain": [
       "HBox(children=(IntProgress(value=0), HTML(value='')))"
      ]
     },
     "metadata": {},
     "output_type": "display_data"
    },
    {
     "name": "stdout",
     "output_type": "stream",
     "text": [
      "\n",
      "2.223069441455084e-14\n"
     ]
    },
    {
     "data": {
      "application/vnd.jupyter.widget-view+json": {
       "model_id": "c75c0a49c78440678188ceb02e48787c",
       "version_major": 2,
       "version_minor": 0
      },
      "text/plain": [
       "HBox(children=(IntProgress(value=0), HTML(value='')))"
      ]
     },
     "metadata": {},
     "output_type": "display_data"
    },
    {
     "name": "stdout",
     "output_type": "stream",
     "text": [
      "\n",
      "1.1815632925811112e-14\n",
      "--------------------------------------------------------\n",
      "m = 4\n"
     ]
    },
    {
     "data": {
      "application/vnd.jupyter.widget-view+json": {
       "model_id": "9aa23cab9dd7401ca99cba69c90fd682",
       "version_major": 2,
       "version_minor": 0
      },
      "text/plain": [
       "HBox(children=(IntProgress(value=0), HTML(value='')))"
      ]
     },
     "metadata": {},
     "output_type": "display_data"
    },
    {
     "name": "stdout",
     "output_type": "stream",
     "text": [
      "\n",
      "8.539431097383017e-14\n"
     ]
    },
    {
     "data": {
      "application/vnd.jupyter.widget-view+json": {
       "model_id": "c2dfaa3128044fa7b18728f5fa66f878",
       "version_major": 2,
       "version_minor": 0
      },
      "text/plain": [
       "HBox(children=(IntProgress(value=0), HTML(value='')))"
      ]
     },
     "metadata": {},
     "output_type": "display_data"
    },
    {
     "name": "stdout",
     "output_type": "stream",
     "text": [
      "\n",
      "1.4269769732008002e-14\n"
     ]
    }
   ],
   "source": [
    "# Test code for the effects of Gaussian noise on our computations of phase with the new optimized algorithm\n",
    "# compare old algorithm to the new algorithm\n",
    "\n",
    "# working 9/21/19\n",
    "\n",
    "run = 0 #controls whether the test code runs, set to 1 to run this code    \n",
    "\n",
    "if (run):\n",
    "    trials = 100\n",
    "    magnitude = 1  # approximate magnitude of each x_i\n",
    "    deviation = 0.00000000000001   # standard deviation\n",
    "    \n",
    "    print(\"trials =\", trials)\n",
    "    print(\"magnitude =\", magnitude)\n",
    "    print(\"deviation =\", deviation)\n",
    "    print\n",
    "    print(\"m = 1\")\n",
    "    print\n",
    "    print(test_alg_for_variance(trials, 2, magnitude, deviation))\n",
    "    print\n",
    "    print(test_ASMT_relative_error(trials, 2, magnitude, deviation))\n",
    "    print\n",
    "    \n",
    "    print(\"--------------------------------------------------------\")\n",
    "    print\n",
    "    print(\"m = 2\")\n",
    "    print\n",
    "    print(test_alg_for_variance(trials, 4, magnitude, deviation))\n",
    "    print\n",
    "    print(test_ASMT_relative_error(trials, 4, magnitude, deviation))\n",
    "    print\n",
    "    \n",
    "    print(\"--------------------------------------------------------\")\n",
    "    print\n",
    "    print(\"m = 3\")\n",
    "    print\n",
    "    print(test_alg_for_variance(trials, 8, magnitude, deviation))\n",
    "    print\n",
    "    print(test_ASMT_relative_error(trials, 8, magnitude, deviation))\n",
    "    print\n",
    "    \n",
    "    print(\"--------------------------------------------------------\")\n",
    "    print\n",
    "    print(\"m = 4\")\n",
    "    print\n",
    "    print(test_alg_for_variance(trials, 16, magnitude, deviation))\n",
    "    print\n",
    "    print(test_ASMT_relative_error(trials, 16, magnitude, deviation))\n",
    "    print\n",
    "    \n",
    "#     print(\"--------------------------------------------------------\"\n",
    "#     print\n",
    "#     print(\"m = 5\"\n",
    "#     print(test_alg_for_variance(trials, 32, magnitude, deviation)\n",
    "#     print\n",
    "#     print(test_ASMT_relative_error(trials, 32, magnitude, deviation)\n",
    "#     print("
   ]
  },
  {
   "cell_type": "code",
   "execution_count": 9,
   "metadata": {},
   "outputs": [],
   "source": [
    "# code that generates random vectors x of size 2 to test our observation about the relative phase measurements\n",
    "\n",
    "# x = np.array([2+3j, 5-2j]);\n",
    "# deviation = 0\n",
    "# a = 1\n",
    "# m = 1\n",
    "\n",
    "# for i in range(1000):\n",
    "#     x = generateX(2,5)\n",
    "# #     print(x\n",
    "\n",
    "#     relativePhaseNoise2(x,a,m,deviation)\n",
    "# #     print\n",
    "# #     print\n",
    "# #     print(getPhaseNoiseOpt(x,deviation)"
   ]
  },
  {
   "cell_type": "code",
   "execution_count": 27,
   "metadata": {},
   "outputs": [
    {
     "data": {
      "application/vnd.jupyter.widget-view+json": {
       "model_id": "79aa6321ed0f4e2e8292dd3c4e0c25d3",
       "version_major": 2,
       "version_minor": 0
      },
      "text/plain": [
       "HBox(children=(IntProgress(value=0, max=20), HTML(value='')))"
      ]
     },
     "metadata": {},
     "output_type": "display_data"
    },
    {
     "data": {
      "application/vnd.jupyter.widget-view+json": {
       "model_id": "24b53a63e400489c9795fcfda0398aad",
       "version_major": 2,
       "version_minor": 0
      },
      "text/plain": [
       "HBox(children=(IntProgress(value=0, max=1000), HTML(value='')))"
      ]
     },
     "metadata": {},
     "output_type": "display_data"
    },
    {
     "data": {
      "application/vnd.jupyter.widget-view+json": {
       "model_id": "2762938562774b0785ac2ed895f9fd95",
       "version_major": 2,
       "version_minor": 0
      },
      "text/plain": [
       "HBox(children=(IntProgress(value=0, max=1000), HTML(value='')))"
      ]
     },
     "metadata": {},
     "output_type": "display_data"
    },
    {
     "data": {
      "application/vnd.jupyter.widget-view+json": {
       "model_id": "b9b85858097f4a3598b3f25fff8211e6",
       "version_major": 2,
       "version_minor": 0
      },
      "text/plain": [
       "HBox(children=(IntProgress(value=0, max=1000), HTML(value='')))"
      ]
     },
     "metadata": {},
     "output_type": "display_data"
    },
    {
     "data": {
      "application/vnd.jupyter.widget-view+json": {
       "model_id": "9e789c0c91524dd4b1eba99ebed06bc3",
       "version_major": 2,
       "version_minor": 0
      },
      "text/plain": [
       "HBox(children=(IntProgress(value=0, max=1000), HTML(value='')))"
      ]
     },
     "metadata": {},
     "output_type": "display_data"
    },
    {
     "data": {
      "application/vnd.jupyter.widget-view+json": {
       "model_id": "22159eb36f1746008b0d3e3201817038",
       "version_major": 2,
       "version_minor": 0
      },
      "text/plain": [
       "HBox(children=(IntProgress(value=0, max=1000), HTML(value='')))"
      ]
     },
     "metadata": {},
     "output_type": "display_data"
    },
    {
     "data": {
      "application/vnd.jupyter.widget-view+json": {
       "model_id": "2c2cfce371b5437587fb30ab59a6a256",
       "version_major": 2,
       "version_minor": 0
      },
      "text/plain": [
       "HBox(children=(IntProgress(value=0, max=1000), HTML(value='')))"
      ]
     },
     "metadata": {},
     "output_type": "display_data"
    },
    {
     "data": {
      "application/vnd.jupyter.widget-view+json": {
       "model_id": "17724fc478214ff98532fa85d8148ecf",
       "version_major": 2,
       "version_minor": 0
      },
      "text/plain": [
       "HBox(children=(IntProgress(value=0, max=1000), HTML(value='')))"
      ]
     },
     "metadata": {},
     "output_type": "display_data"
    },
    {
     "data": {
      "application/vnd.jupyter.widget-view+json": {
       "model_id": "2a181613f94a48529caff77c82814ca7",
       "version_major": 2,
       "version_minor": 0
      },
      "text/plain": [
       "HBox(children=(IntProgress(value=0, max=1000), HTML(value='')))"
      ]
     },
     "metadata": {},
     "output_type": "display_data"
    },
    {
     "data": {
      "application/vnd.jupyter.widget-view+json": {
       "model_id": "f96d37545f564714bd7022c54df12f94",
       "version_major": 2,
       "version_minor": 0
      },
      "text/plain": [
       "HBox(children=(IntProgress(value=0, max=1000), HTML(value='')))"
      ]
     },
     "metadata": {},
     "output_type": "display_data"
    },
    {
     "data": {
      "application/vnd.jupyter.widget-view+json": {
       "model_id": "45d189a55a6d422fbdf1ed12c687c16d",
       "version_major": 2,
       "version_minor": 0
      },
      "text/plain": [
       "HBox(children=(IntProgress(value=0, max=1000), HTML(value='')))"
      ]
     },
     "metadata": {},
     "output_type": "display_data"
    },
    {
     "data": {
      "application/vnd.jupyter.widget-view+json": {
       "model_id": "392647b8f27b44c2bef2724fc27fb65f",
       "version_major": 2,
       "version_minor": 0
      },
      "text/plain": [
       "HBox(children=(IntProgress(value=0, max=1000), HTML(value='')))"
      ]
     },
     "metadata": {},
     "output_type": "display_data"
    },
    {
     "data": {
      "application/vnd.jupyter.widget-view+json": {
       "model_id": "d31c67581f7144ca81b8c7ffc2e2ed91",
       "version_major": 2,
       "version_minor": 0
      },
      "text/plain": [
       "HBox(children=(IntProgress(value=0, max=1000), HTML(value='')))"
      ]
     },
     "metadata": {},
     "output_type": "display_data"
    },
    {
     "data": {
      "application/vnd.jupyter.widget-view+json": {
       "model_id": "eae4a4ab987a45b58964302008b0b0d6",
       "version_major": 2,
       "version_minor": 0
      },
      "text/plain": [
       "HBox(children=(IntProgress(value=0, max=1000), HTML(value='')))"
      ]
     },
     "metadata": {},
     "output_type": "display_data"
    },
    {
     "data": {
      "application/vnd.jupyter.widget-view+json": {
       "model_id": "d83a355171ab4554a77b5a119111fd53",
       "version_major": 2,
       "version_minor": 0
      },
      "text/plain": [
       "HBox(children=(IntProgress(value=0, max=1000), HTML(value='')))"
      ]
     },
     "metadata": {},
     "output_type": "display_data"
    },
    {
     "data": {
      "application/vnd.jupyter.widget-view+json": {
       "model_id": "901d17d7ce7f4ed5a18d72559c9ff70b",
       "version_major": 2,
       "version_minor": 0
      },
      "text/plain": [
       "HBox(children=(IntProgress(value=0, max=1000), HTML(value='')))"
      ]
     },
     "metadata": {},
     "output_type": "display_data"
    },
    {
     "data": {
      "application/vnd.jupyter.widget-view+json": {
       "model_id": "00906561c3724994a98f22d5f8ea5339",
       "version_major": 2,
       "version_minor": 0
      },
      "text/plain": [
       "HBox(children=(IntProgress(value=0, max=1000), HTML(value='')))"
      ]
     },
     "metadata": {},
     "output_type": "display_data"
    },
    {
     "data": {
      "application/vnd.jupyter.widget-view+json": {
       "model_id": "b7896ec66f4042e3ae939475c25f96d7",
       "version_major": 2,
       "version_minor": 0
      },
      "text/plain": [
       "HBox(children=(IntProgress(value=0, max=1000), HTML(value='')))"
      ]
     },
     "metadata": {},
     "output_type": "display_data"
    },
    {
     "data": {
      "application/vnd.jupyter.widget-view+json": {
       "model_id": "c63c3554807d4cf09a22d652e5de3c67",
       "version_major": 2,
       "version_minor": 0
      },
      "text/plain": [
       "HBox(children=(IntProgress(value=0, max=1000), HTML(value='')))"
      ]
     },
     "metadata": {},
     "output_type": "display_data"
    },
    {
     "data": {
      "application/vnd.jupyter.widget-view+json": {
       "model_id": "d9c12bf3494e4aa6a81b1bb361de7e29",
       "version_major": 2,
       "version_minor": 0
      },
      "text/plain": [
       "HBox(children=(IntProgress(value=0, max=1000), HTML(value='')))"
      ]
     },
     "metadata": {},
     "output_type": "display_data"
    },
    {
     "data": {
      "application/vnd.jupyter.widget-view+json": {
       "model_id": "f2e676a4adb840149fa0d666f2e63156",
       "version_major": 2,
       "version_minor": 0
      },
      "text/plain": [
       "HBox(children=(IntProgress(value=0, max=1000), HTML(value='')))"
      ]
     },
     "metadata": {},
     "output_type": "display_data"
    },
    {
     "data": {
      "application/vnd.jupyter.widget-view+json": {
       "model_id": "7cfb3123955d41d8bf6a408c389ab52c",
       "version_major": 2,
       "version_minor": 0
      },
      "text/plain": [
       "HBox(children=(IntProgress(value=0, max=1000), HTML(value='')))"
      ]
     },
     "metadata": {},
     "output_type": "display_data"
    },
    {
     "data": {
      "application/vnd.jupyter.widget-view+json": {
       "model_id": "bfee10678bab40b2ab13958a941d52ff",
       "version_major": 2,
       "version_minor": 0
      },
      "text/plain": [
       "HBox(children=(IntProgress(value=0, max=1000), HTML(value='')))"
      ]
     },
     "metadata": {},
     "output_type": "display_data"
    },
    {
     "data": {
      "application/vnd.jupyter.widget-view+json": {
       "model_id": "56212e8c1466406ca21296056d8b6639",
       "version_major": 2,
       "version_minor": 0
      },
      "text/plain": [
       "HBox(children=(IntProgress(value=0, max=1000), HTML(value='')))"
      ]
     },
     "metadata": {},
     "output_type": "display_data"
    },
    {
     "data": {
      "application/vnd.jupyter.widget-view+json": {
       "model_id": "73824f44ae31448e84fdb07831930361",
       "version_major": 2,
       "version_minor": 0
      },
      "text/plain": [
       "HBox(children=(IntProgress(value=0, max=1000), HTML(value='')))"
      ]
     },
     "metadata": {},
     "output_type": "display_data"
    },
    {
     "data": {
      "application/vnd.jupyter.widget-view+json": {
       "model_id": "e6e37018df954f92a7fe3fd43dead790",
       "version_major": 2,
       "version_minor": 0
      },
      "text/plain": [
       "HBox(children=(IntProgress(value=0, max=1000), HTML(value='')))"
      ]
     },
     "metadata": {},
     "output_type": "display_data"
    },
    {
     "data": {
      "application/vnd.jupyter.widget-view+json": {
       "model_id": "ae884b26e1ee4adf980c03c768a29ca7",
       "version_major": 2,
       "version_minor": 0
      },
      "text/plain": [
       "HBox(children=(IntProgress(value=0, max=1000), HTML(value='')))"
      ]
     },
     "metadata": {},
     "output_type": "display_data"
    },
    {
     "data": {
      "application/vnd.jupyter.widget-view+json": {
       "model_id": "12b990822ddd4ab0877112a4deb84811",
       "version_major": 2,
       "version_minor": 0
      },
      "text/plain": [
       "HBox(children=(IntProgress(value=0, max=1000), HTML(value='')))"
      ]
     },
     "metadata": {},
     "output_type": "display_data"
    },
    {
     "data": {
      "application/vnd.jupyter.widget-view+json": {
       "model_id": "715eb7a280094dc7a39e705542ae85e2",
       "version_major": 2,
       "version_minor": 0
      },
      "text/plain": [
       "HBox(children=(IntProgress(value=0, max=1000), HTML(value='')))"
      ]
     },
     "metadata": {},
     "output_type": "display_data"
    },
    {
     "data": {
      "application/vnd.jupyter.widget-view+json": {
       "model_id": "8dd7779e31cf404eb6b45e00a98e3383",
       "version_major": 2,
       "version_minor": 0
      },
      "text/plain": [
       "HBox(children=(IntProgress(value=0, max=1000), HTML(value='')))"
      ]
     },
     "metadata": {},
     "output_type": "display_data"
    },
    {
     "data": {
      "application/vnd.jupyter.widget-view+json": {
       "model_id": "787429d3fd8344e59bd2b291978eb6a0",
       "version_major": 2,
       "version_minor": 0
      },
      "text/plain": [
       "HBox(children=(IntProgress(value=0, max=1000), HTML(value='')))"
      ]
     },
     "metadata": {},
     "output_type": "display_data"
    },
    {
     "data": {
      "application/vnd.jupyter.widget-view+json": {
       "model_id": "8992f1e503c247bfab4f783e8a50d75b",
       "version_major": 2,
       "version_minor": 0
      },
      "text/plain": [
       "HBox(children=(IntProgress(value=0, max=1000), HTML(value='')))"
      ]
     },
     "metadata": {},
     "output_type": "display_data"
    },
    {
     "data": {
      "application/vnd.jupyter.widget-view+json": {
       "model_id": "6e2bcdae8cd44ac4afe79c96ec482beb",
       "version_major": 2,
       "version_minor": 0
      },
      "text/plain": [
       "HBox(children=(IntProgress(value=0, max=1000), HTML(value='')))"
      ]
     },
     "metadata": {},
     "output_type": "display_data"
    },
    {
     "data": {
      "application/vnd.jupyter.widget-view+json": {
       "model_id": "9ca43c69eeff43a3bedda07cdf1fcd1d",
       "version_major": 2,
       "version_minor": 0
      },
      "text/plain": [
       "HBox(children=(IntProgress(value=0, max=1000), HTML(value='')))"
      ]
     },
     "metadata": {},
     "output_type": "display_data"
    },
    {
     "data": {
      "application/vnd.jupyter.widget-view+json": {
       "model_id": "b09aea95e2d24dd79efdbb2d338d97d3",
       "version_major": 2,
       "version_minor": 0
      },
      "text/plain": [
       "HBox(children=(IntProgress(value=0, max=1000), HTML(value='')))"
      ]
     },
     "metadata": {},
     "output_type": "display_data"
    },
    {
     "data": {
      "application/vnd.jupyter.widget-view+json": {
       "model_id": "b42ceccd75cd4904a8d34ecc0cb4cc13",
       "version_major": 2,
       "version_minor": 0
      },
      "text/plain": [
       "HBox(children=(IntProgress(value=0, max=1000), HTML(value='')))"
      ]
     },
     "metadata": {},
     "output_type": "display_data"
    },
    {
     "data": {
      "application/vnd.jupyter.widget-view+json": {
       "model_id": "40e6b935883e4282b64ec58a9b040736",
       "version_major": 2,
       "version_minor": 0
      },
      "text/plain": [
       "HBox(children=(IntProgress(value=0, max=1000), HTML(value='')))"
      ]
     },
     "metadata": {},
     "output_type": "display_data"
    },
    {
     "data": {
      "application/vnd.jupyter.widget-view+json": {
       "model_id": "f7543682f8c546ad9f1c5db94e4f12bb",
       "version_major": 2,
       "version_minor": 0
      },
      "text/plain": [
       "HBox(children=(IntProgress(value=0, max=1000), HTML(value='')))"
      ]
     },
     "metadata": {},
     "output_type": "display_data"
    },
    {
     "data": {
      "application/vnd.jupyter.widget-view+json": {
       "model_id": "3b2f9d82eb494da7b511186a9dc06113",
       "version_major": 2,
       "version_minor": 0
      },
      "text/plain": [
       "HBox(children=(IntProgress(value=0, max=1000), HTML(value='')))"
      ]
     },
     "metadata": {},
     "output_type": "display_data"
    },
    {
     "data": {
      "application/vnd.jupyter.widget-view+json": {
       "model_id": "caf3bdac79074efcb4fd24cf96c18002",
       "version_major": 2,
       "version_minor": 0
      },
      "text/plain": [
       "HBox(children=(IntProgress(value=0, max=1000), HTML(value='')))"
      ]
     },
     "metadata": {},
     "output_type": "display_data"
    },
    {
     "data": {
      "application/vnd.jupyter.widget-view+json": {
       "model_id": "132c0cf77ddc446db66dc793a394de2b",
       "version_major": 2,
       "version_minor": 0
      },
      "text/plain": [
       "HBox(children=(IntProgress(value=0, max=1000), HTML(value='')))"
      ]
     },
     "metadata": {},
     "output_type": "display_data"
    },
    {
     "name": "stdout",
     "output_type": "stream",
     "text": [
      "\n",
      "[0.01, 0.008333333333333331, 0.006944444444444442, 0.005787037037037035, 0.004822530864197529, 0.004018775720164608, 0.003348979766803839, 0.0027908164723365325, 0.002325680393613777, 0.0019380669946781474, 0.0016150558288984564, 0.00134587985741538, 0.0011215665478461496, 0.0009346387898717912, 0.0007788656582264925, 0.0006490547151887438, 0.0005408789293239534, 0.0004507324411032943, 0.0003756103675860785, 0.00031300863965506544]\n"
     ]
    },
    {
     "data": {
      "image/png": "[encoded data removed]",
      "text/plain": [
       "<Figure size 432x288 with 1 Axes>"
      ]
     },
     "metadata": {
      "needs_background": "light"
     },
     "output_type": "display_data"
    }
   ],
   "source": [
    "# (trials, startMag, startDev, increments, m, increaseFactor)\n",
    "\n",
    "# working 9/21/19\n",
    "\n",
    "run = 0\n",
    "if run:\n",
    "    NSRvsMSE(300, 10, 1.0, 20, 2, 1.2)"
   ]
  },
  {
   "cell_type": "code",
   "execution_count": 11,
   "metadata": {},
   "outputs": [],
   "source": [
    "# (trials, startMag, startDev, increments, m, increaseFactor)\n",
    "run = 0\n",
    "if run:\n",
    "    NSRvsMSE(500, 10, 1.0, 15, 3, 1.2)"
   ]
  },
  {
   "cell_type": "code",
   "execution_count": 12,
   "metadata": {},
   "outputs": [],
   "source": [
    "# (trials, startMag, startDev, increments, m, increaseFactor)\n",
    "run = 0\n",
    "if run:\n",
    "    NSRvsMSE(200, 10, 1.0, 8, 4, 1.2)"
   ]
  },
  {
   "cell_type": "code",
   "execution_count": 13,
   "metadata": {},
   "outputs": [],
   "source": [
    "# (trials, trialFactor, magnitude, deviation)\n",
    "run = 0\n",
    "if run:\n",
    "    MvsMSE(20000, 0.3, np.sqrt(10**1), 1)"
   ]
  },
  {
   "cell_type": "code",
   "execution_count": 14,
   "metadata": {},
   "outputs": [],
   "source": [
    "# (trials, trialFactor, magnitude, deviation)\n",
    "run = 0\n",
    "if run:\n",
    "    MvsMSE(20000, 0.3, np.sqrt(10**2), 1)"
   ]
  },
  {
   "cell_type": "code",
   "execution_count": 29,
   "metadata": {},
   "outputs": [
    {
     "data": {
      "application/vnd.jupyter.widget-view+json": {
       "model_id": "13db9b7a7a6c433fab5c071a8e8bccd0",
       "version_major": 2,
       "version_minor": 0
      },
      "text/plain": [
       "HBox(children=(IntProgress(value=0, max=5), HTML(value='')))"
      ]
     },
     "metadata": {},
     "output_type": "display_data"
    },
    {
     "data": {
      "application/vnd.jupyter.widget-view+json": {
       "model_id": "c2d3e37d67964d2484c8f08ac9cd0054",
       "version_major": 2,
       "version_minor": 0
      },
      "text/plain": [
       "HBox(children=(IntProgress(value=0, max=1000), HTML(value='')))"
      ]
     },
     "metadata": {},
     "output_type": "display_data"
    },
    {
     "data": {
      "application/vnd.jupyter.widget-view+json": {
       "model_id": "be246e8d3ead4ba5bf0a4acfac1c2288",
       "version_major": 2,
       "version_minor": 0
      },
      "text/plain": [
       "HBox(children=(IntProgress(value=0, max=1000), HTML(value='')))"
      ]
     },
     "metadata": {},
     "output_type": "display_data"
    },
    {
     "data": {
      "application/vnd.jupyter.widget-view+json": {
       "model_id": "1ef2998f3a0a463e81a8b7e3c2e15f7c",
       "version_major": 2,
       "version_minor": 0
      },
      "text/plain": [
       "HBox(children=(IntProgress(value=0, max=300), HTML(value='')))"
      ]
     },
     "metadata": {},
     "output_type": "display_data"
    },
    {
     "data": {
      "application/vnd.jupyter.widget-view+json": {
       "model_id": "570e2acfb4b4476ba1b2bd50a0ed2395",
       "version_major": 2,
       "version_minor": 0
      },
      "text/plain": [
       "HBox(children=(IntProgress(value=0, max=300), HTML(value='')))"
      ]
     },
     "metadata": {},
     "output_type": "display_data"
    },
    {
     "data": {
      "application/vnd.jupyter.widget-view+json": {
       "model_id": "f1b4aa50a40a4953aea8d8fa1bb2202b",
       "version_major": 2,
       "version_minor": 0
      },
      "text/plain": [
       "HBox(children=(IntProgress(value=0, max=90), HTML(value='')))"
      ]
     },
     "metadata": {},
     "output_type": "display_data"
    },
    {
     "data": {
      "application/vnd.jupyter.widget-view+json": {
       "model_id": "c2500c60073f4d36b4f3e6d65e0ccc92",
       "version_major": 2,
       "version_minor": 0
      },
      "text/plain": [
       "HBox(children=(IntProgress(value=0, max=90), HTML(value='')))"
      ]
     },
     "metadata": {},
     "output_type": "display_data"
    },
    {
     "data": {
      "application/vnd.jupyter.widget-view+json": {
       "model_id": "71376154e3d44ffd89f797398c49077f",
       "version_major": 2,
       "version_minor": 0
      },
      "text/plain": [
       "HBox(children=(IntProgress(value=0, max=27), HTML(value='')))"
      ]
     },
     "metadata": {},
     "output_type": "display_data"
    },
    {
     "data": {
      "application/vnd.jupyter.widget-view+json": {
       "model_id": "5f4bcbcbb2ba45928b5eb4773bf8b7d1",
       "version_major": 2,
       "version_minor": 0
      },
      "text/plain": [
       "HBox(children=(IntProgress(value=0, max=27), HTML(value='')))"
      ]
     },
     "metadata": {},
     "output_type": "display_data"
    },
    {
     "data": {
      "application/vnd.jupyter.widget-view+json": {
       "model_id": "c2172281f35342ea829711bd5f342bfc",
       "version_major": 2,
       "version_minor": 0
      },
      "text/plain": [
       "HBox(children=(IntProgress(value=0, max=8), HTML(value='')))"
      ]
     },
     "metadata": {},
     "output_type": "display_data"
    },
    {
     "data": {
      "application/vnd.jupyter.widget-view+json": {
       "model_id": "ba187eaf8c8e43fd9ab4d1b8a259a763",
       "version_major": 2,
       "version_minor": 0
      },
      "text/plain": [
       "HBox(children=(IntProgress(value=0, max=8), HTML(value='')))"
      ]
     },
     "metadata": {},
     "output_type": "display_data"
    },
    {
     "name": "stdout",
     "output_type": "stream",
     "text": [
      "\n",
      "[2, 3, 4, 5, 6]\n"
     ]
    },
    {
     "data": {
      "image/png": "[encoded data removed]",
      "text/plain": [
       "<Figure size 432x288 with 1 Axes>"
      ]
     },
     "metadata": {
      "needs_background": "light"
     },
     "output_type": "display_data"
    }
   ],
   "source": [
    "# (trials, trialFactor, magnitude, deviation)\n",
    "\n",
    "#\n",
    "\n",
    "run = 1\n",
    "if run:\n",
    "    MvsMSE(1000, 0.3, np.sqrt(10**3), 1)"
   ]
  },
  {
   "cell_type": "code",
   "execution_count": 16,
   "metadata": {},
   "outputs": [],
   "source": [
    "# (trials, trialFactor, magnitude, deviation)\n",
    "run = 0\n",
    "if run:\n",
    "    MvsMSE(20000, 0.3, np.sqrt(10**6), 1)"
   ]
  },
  {
   "cell_type": "code",
   "execution_count": 17,
   "metadata": {},
   "outputs": [],
   "source": [
    "# (trials, trialFactor, magnitude, deviation)\n",
    "run = 0\n",
    "if run:\n",
    "    MvsMSE(10000, 0.3, np.sqrt(10**6), 1)"
   ]
  },
  {
   "cell_type": "code",
   "execution_count": 18,
   "metadata": {},
   "outputs": [],
   "source": [
    "# (trials, trialFactor, magnitude, deviation)\n",
    "run = 0\n",
    "if run:\n",
    "    MvsMSE(10000, 0.3, np.sqrt(10**9), 1)"
   ]
  },
  {
   "cell_type": "markdown",
   "metadata": {},
   "source": [
    "# Work 7/26/19 \n",
    "getPhaseNoise with simple bipartite approach.  This algorithm should theoretically be the best possible way we can take measurements using our measurement scheme.  I am treating our vector as a bipartite graph where each even entry of the vector is on one side and the odd entries are on the other side of teh graph.  Any valid choice of a (i.e. an odd choice of a) will link an vertex of one side to the other.  Because we cannot use even a, we cannot connect even vertices to even or odd to odd.  Thus this graph is bipartite.  However we can also connect any even entry to all odd vertices and vice versa.  This is because there are N/2 odd vertices and there are N/2 valid choices of a, and each choice of a will connect an even vertex to a unique odd vertex.  Thus the entries of one side are fully connected to the entries of the other side.\n",
    "\n",
    "This suggests that the ultimately optimal measurement scheme is quite simple.  We get a better estimate for an entry when the entry we are measuring from has a larger magnitude, because we divide the noise term of the relative phase by the phase of this entry.  Then the best way to measure any even vertex is to make the measurement from the largest odd vertex.  Similarly the best way to measure any odd vertex is from the largest even vertex.  So what we do is:\n",
    "* take a magnitude measurement of all the vertices, say the largest magnitude entry is even\n",
    "* use the largest magnitude vertex (the even one) to get a relative phase measurement for each odd vertex on the other side of the bipartite graph, giving an estimate for all odd entries\n",
    "* use the largest magnitude odd vertex along with its estimated phase to estimate each of the even vertices other than the vertex we started from\n",
    "\n",
    "This will produce an estimate for the entire vector.  It is optimal because any relative phase measurement that is not FROM the largest even or odd vertex will produce an estimate for the phase of that entry that is less optimal than it otherwise could have been if the measurment was used more wisely.  \n",
    "\n",
    "#### RECALL\n",
    "\n",
    "In my programming, binary numbers are written with the most significant number on the left, i.e. 10 = 2"
   ]
  },
  {
   "cell_type": "markdown",
   "metadata": {},
   "source": [
    "# Work 7/29/19\n",
    "\n",
    "I now have the getPhaseNoiseBipartite algorithm working.  I created the algorithm without using the Altered Signal Measurement Technique, as using the ASMT would allow us to recover absolute phase (i.e. not up to a global phase factor) which doesn't really make any sense.  I could try using the ASMT but using (global_phase_factor)*x_hat[index] to compare Opt and Bipartite with the ASMT.\n",
    "\n",
    "As my tests have shown that the ASMT doesn't make much of a difference when the NSR is large, I think I will keep my Bipartite algorithm without ASMT for now.  \n",
    "\n",
    "I am now attempting to test performance of Bipartite vs. Opt vs. Original.  \n",
    "\n",
    "Some initial tests on trial sizes of 500 show that Bipartite is on average has half the MSE as OPT and anywhere from 3 to 6 times smaller MSE than the Original."
   ]
  },
  {
   "cell_type": "markdown",
   "metadata": {},
   "source": [
    "# Work 7/30/19\n",
    "\n",
    "I first added and tested code that allows the Bipartite algorithm to run on vectors of any length, not just a power of 2.  This works by appending 0's to the vector to make a new vector whos length is a vector of two, and \"forgetting\" these extra entries when I return x_hat in the end.  I do technically now make more measurements than I should as I estimate the new entries that I create, but this shouldn't really cause any problems because in reality, we just wouldn't make those measurements.  I could change the algorithm to reflect that, but that would be a good deal of work and wouldn't really provide us with any benefit, as we know the number of measurements we are making for a vector of length N.\n",
    "\n",
    "I am now developing tests to compare the bipartite algorithm with the Mixon algorithm.  In their paper, they give rather explicit instructions on how they ran their simulations, so I should be able to draw x from the same distribution and use the same distribution for the complex noise and be able to compare results.  "
   ]
  },
  {
   "cell_type": "markdown",
   "metadata": {},
   "source": [
    "# Work 9/5/19\n",
    "I just got access to Mixon's code for the paper \"Phase Retrieval with Polarization\".  I spent about 5 hours working on using his Matlab code to make comparisons with my algorithm.  I designed new modified algorithms that allow me to use the same vectors that were used in the Matlab program to compare how my algorithm performs.  I did so by copying the matlab output into a textfile which could be read off in python to build each x.  I also added functionality to use the same noise components.\n",
    "\n",
    "Using their vectors, my graph still has a similar shape, but has relative error about a magnitude larger than theirs.  Mine starts at about 0.2 and decreases to 0.02, theirs starts at 0.02 and decreases to 0.002.  However, I realized I am doing something wrong in the comparison.  Further, it appears the noise I am using has smaller magnitude than their noise, further hurting my comparison.\n",
    "\n",
    "I am taking in their signal x and noises as real numbers.  I need to do more testing to figure out how to properly compare."
   ]
  },
  {
   "cell_type": "code",
   "execution_count": 31,
   "metadata": {},
   "outputs": [],
   "source": [
    "from collections import deque"
   ]
  },
  {
   "cell_type": "code",
   "execution_count": 34,
   "metadata": {},
   "outputs": [
    {
     "name": "stdout",
     "output_type": "stream",
     "text": [
      "deque(['a', 'b', 'c'])\n",
      "a\n"
     ]
    },
    {
     "ename": "AttributeError",
     "evalue": "'collections.deque' object has no attribute 'popright'",
     "output_type": "error",
     "traceback": [
      "\u001b[1;31m---------------------------------------------------------------------------\u001b[0m",
      "\u001b[1;31mAttributeError\u001b[0m                            Traceback (most recent call last)",
      "\u001b[1;32m<ipython-input-34-565c0a239e42>\u001b[0m in \u001b[0;36m<module>\u001b[1;34m\u001b[0m\n\u001b[0;32m      6\u001b[0m \u001b[0mprint\u001b[0m\u001b[1;33m(\u001b[0m\u001b[0mq\u001b[0m\u001b[1;33m)\u001b[0m\u001b[1;33m\u001b[0m\u001b[1;33m\u001b[0m\u001b[0m\n\u001b[0;32m      7\u001b[0m \u001b[0mprint\u001b[0m\u001b[1;33m(\u001b[0m\u001b[0mq\u001b[0m\u001b[1;33m.\u001b[0m\u001b[0mpopleft\u001b[0m\u001b[1;33m(\u001b[0m\u001b[1;33m)\u001b[0m\u001b[1;33m)\u001b[0m\u001b[1;33m\u001b[0m\u001b[1;33m\u001b[0m\u001b[0m\n\u001b[1;32m----> 8\u001b[1;33m \u001b[0mprint\u001b[0m\u001b[1;33m(\u001b[0m\u001b[0mq\u001b[0m\u001b[1;33m.\u001b[0m\u001b[0mpopright\u001b[0m\u001b[1;33m(\u001b[0m\u001b[1;33m)\u001b[0m\u001b[1;33m)\u001b[0m\u001b[1;33m\u001b[0m\u001b[1;33m\u001b[0m\u001b[0m\n\u001b[0m\u001b[0;32m      9\u001b[0m \u001b[0mprint\u001b[0m\u001b[1;33m(\u001b[0m\u001b[0mq\u001b[0m\u001b[1;33m)\u001b[0m\u001b[1;33m\u001b[0m\u001b[1;33m\u001b[0m\u001b[0m\n",
      "\u001b[1;31mAttributeError\u001b[0m: 'collections.deque' object has no attribute 'popright'"
     ]
    }
   ],
   "source": [
    "q = deque()\n",
    "q.append(\"a\")\n",
    "q.append(\"b\")\n",
    "q.append(\"c\")\n",
    "\n",
    "print(q)\n",
    "print(q.popleft())\n",
    "print(q.popright())\n",
    "print(q)\n"
   ]
  },
  {
   "cell_type": "code",
   "execution_count": 35,
   "metadata": {},
   "outputs": [],
   "source": [
    "\n",
    "def get_vectors_and_noise_from_Mixon(file_name):    # this function uses the name of a text file \"file_name\" to access a file of Matlab outputs that allow for direct comparison of our algorithm with Mixon's\n",
    "    file = open(file_name,\"r\") \n",
    "    signals_array = []                 # the return, a signal x for each value of N\n",
    "    noises_array = []                  # the return, a noise vector for each signal x\n",
    "\n",
    "    while(True):                       # repeat until the end of a file\n",
    "        read = file.readline().strip()\n",
    "        if (read==\"END\"):              # END denotes the end of a file\n",
    "            break\n",
    "        elif (read==\"SIG\"):\n",
    "            pass\n",
    "        else:\n",
    "            print(\"ERROR: getVectorsAndNoiseFromMixon: read is:\", read, \"when it should be SIG\")\n",
    "            break\n",
    "        \n",
    "        N = int(file.readline())       # N is the length of the vector x\n",
    "        signal_vector = np.zeros(N)\n",
    "        \n",
    "        for i in range(N):             # gets each entry of x one line at a time\n",
    "            (read1, read2) = file.readline().split(\"e\")  # numbers are written as  \"valeexp\" i.e. value then the letter e then the exponent\n",
    "            val = float(read1)\n",
    "            exp = int(read2)\n",
    "            signal_vector[i] = val* (10**exp)\n",
    "        signals_array.append(signal_vector)\n",
    "\n",
    "        read = file.readline().strip()\n",
    "        if (read==\"NOISE\"):\n",
    "            pass\n",
    "        else:\n",
    "            print(\"ERROR: getVectorsAndNoiseFromMixon: read is:\", read, \"when it should be NOISE\")\n",
    "            break\n",
    "        \n",
    "        l = int(file.readline())       # l is the length of the noise vector\n",
    "        noise_vector = np.zeros(l)\n",
    "        \n",
    "        for i in range(l):             # gets each entry of x one line at a time\n",
    "            (read1, read2) = file.readline().split(\"e\")  # numbers are written as  \"valeexp\" i.e. value then the letter e then the exponent\n",
    "            val = float(read1)\n",
    "            exp = int(read2)\n",
    "            noise_vector[i] = val* (10**exp)\n",
    "        noises_array.append(noise_vector)\n",
    "    \n",
    "    file.close()\n",
    "    return signals_array, noises_array\n",
    "\n",
    "# print(getVectorsAndNoiseFromMixon(\"Mixon_vectors_noise_small.txt\"))"
   ]
  },
  {
   "cell_type": "code",
   "execution_count": 20,
   "metadata": {},
   "outputs": [],
   "source": [
    "#===========================================================================================================================\n",
    "def testBipartite_v_Mixon3WithMixonNoise(file_name): # given a certain number of trials per value of N, this function evaluates the average MSE (relative error not squared relative error) of getPhaseNoiseBipartite in a way that is comparable to the paper Phase Retrieval with Polarization by Mixon\n",
    "    signal_vectors, noise_vectors = getVectorsAndNoiseFromMixon(file_name)\n",
    "\n",
    "    average_MSE = []               # records the average MSE for each value of N\n",
    "    for signal in signal_vectors:\n",
    "        N = len(signal)\n",
    "        print(N)\n",
    "        m = int(math.log(N,2))     # get m = log(N) always rounding down\n",
    "        \n",
    "        MSE_array = []             # records the MSE for each trial of this fixed value of N\n",
    "\n",
    "        noise_deviation  = 1.0/np.sqrt(N)          # nu   ~ N(0, (0.4)^2 /N  )\n",
    "    \n",
    "        x = signal   # create the signal of length N with standard deviation 1/sqrt(N)\n",
    "\n",
    "        x_hat_array = []\n",
    "        for j in range(m):                      # make log(N) estimates of the signal for a total of O(NlogN) measurements like in Mixon paper\n",
    "            (x_hat_bipartite, gpf) = getPhaseNoiseBipartite(x, noise_deviation ) # run the algorithm with noise standard deviation of sigma/sqrt(N) where sigma = 0.4\n",
    "            x_hat_array.append(x_hat_bipartite*gpf)\n",
    "\n",
    "        x_hat = np.average(x_hat_array, axis=0) # average the log(N) estimates for each entry \n",
    "        MSE_array.append(relativeError(x_hat, x))\n",
    "            \n",
    "        average_MSE.append(np.average(MSE_array))\n",
    "        # end while loop\n",
    "    \n",
    "    x_axis = []\n",
    "    for signal in signal_vectors: \n",
    "        x_axis.append(len(signal))\n",
    "        \n",
    "    plt.plot(x_axis, average_MSE, color = 'b', marker = 'o', linestyle = '-', linewidth =1, markersize = 6)\n",
    "    title = \"Relative Error versus N with Mixon parameters\"\n",
    "    plt.title(title)\n",
    "    plt.xlabel(\"N\")\n",
    "    plt.ylabel(\"Relative Error\")\n",
    "#     upperY = 7*nsr                         # this choise of upperY makes the graphs look nice\n",
    "#     plt.axis([0, 140, 0, upperY])            # set axes\n",
    "    plt.show\n",
    "    return average_MSE"
   ]
  },
  {
   "cell_type": "code",
   "execution_count": 21,
   "metadata": {},
   "outputs": [],
   "source": [
    "# simulations to generate MSE (relative error, not squared relative error) to compare to Mixon\n",
    "run = 0\n",
    "\n",
    "if run:\n",
    "    result_array = (testBipartite_v_Mixon(64))\n",
    "    for val in result_array:\n",
    "        print(val)\n",
    "\n",
    "    \n",
    "# (result_array1, result_array2) = (testBipartite_v_Mixon(8))\n",
    "# for val in result_array1:\n",
    "#     print(val)\n",
    "# for val in result_array2:\n",
    "#     print(val)"
   ]
  },
  {
   "cell_type": "code",
   "execution_count": 22,
   "metadata": {},
   "outputs": [],
   "source": [
    "run = 0\n",
    "\n",
    "if run:\n",
    "    result_array = (testBipartite_v_Mixon(256))\n",
    "    for val in result_array:\n",
    "        print(val)"
   ]
  },
  {
   "cell_type": "code",
   "execution_count": 23,
   "metadata": {
    "scrolled": true
   },
   "outputs": [],
   "source": [
    "run = 0\n",
    "\n",
    "if run:\n",
    "#     testBipartite_v_Mixon2(\"Mixon_vectors_small.txt\")\n",
    "#     testBipartite_v_Mixon2(\"Mixon_vectors_64.txt\")\n",
    "    testBipartite_v_Mixon2(\"Mixon_vectors_128.txt\")"
   ]
  },
  {
   "cell_type": "code",
   "execution_count": 24,
   "metadata": {},
   "outputs": [],
   "source": [
    "run = 0\n",
    "\n",
    "if run:\n",
    "#     testBipartite_v_Mixon3WithMixonNoise(\"Mixon_vectors_noise_small.txt\")\n",
    "    testBipartite_v_Mixon3WithMixonNoise(\"Mixon_vectors_noise_64.txt\")\n",
    "#     testBipartite_v_Mixon3WithMixonNoise(\"Mixon_vectors_noise_128.txt\")"
   ]
  },
  {
   "cell_type": "code",
   "execution_count": null,
   "metadata": {},
   "outputs": [],
   "source": []
  },
  {
   "cell_type": "code",
   "execution_count": 25,
   "metadata": {},
   "outputs": [],
   "source": [
    "# being modified to use the same noises that were used in Mixon's algorithm\n",
    "def buildEigvecMixonNoise(x,a,m,noise_array):  #builds the vector of intensity measurements with eigenvectors\n",
    "    final = []\n",
    "    x = np.array(x)\n",
    "    # FIX THIS FUNCTION SO THAT IT WORKS WITH THE NOISE_ARRAY\n",
    "    \n",
    "    (basisSa,basisTa,gSa,gTa) = getSaTaBases(a,m)\n",
    "    \n",
    "    for h in np.transpose(basisSa):\n",
    "        mat = np.matmul( np.outer(x,x.conj()) , np.outer(h,h.conj())) #xx^thh^t   w/ conj   x,h\n",
    "        final.append( np.trace(mat) + complexRandomNoise(deviation) )                             #|<x,h>|^2 = Tr(xx^thh^t)\n",
    "        \n",
    "    for f in np.transpose(basisTa):\n",
    "        mat = np.matmul( np.outer(x,x.conj()) , np.outer(f,f.conj())) #xx^tff^t   w/ conj   x,f\n",
    "        final.append( np.trace(mat) + complexRandomNoise(deviation) )                                   #|<x,f>|^2 = Tr(xx^tff^t)\n",
    "    \n",
    "    return np.transpose(np.array(final))"
   ]
  },
  {
   "cell_type": "code",
   "execution_count": 26,
   "metadata": {},
   "outputs": [],
   "source": [
    "# being modified to use the same noises that were used in Mixon's algorithm\n",
    "def relativePhaseMixonNoise(x,a,m,noise_array): #returns the relative phases of a vector x for a given choice of a\n",
    "    HN = makeHN(m)\n",
    "    Emat = buildEigvalMat(a,m)\n",
    "    mVec = buildEigvecMixonNoise(x,a,m,noise_array)\n",
    "    \n",
    "    return (1/np.sqrt(2**m)) * np.matmul(np.matmul(HN,Emat),mVec)"
   ]
  }
 ],
 "metadata": {
  "anaconda-cloud": {},
  "kernelspec": {
   "display_name": "Python 3",
   "language": "python",
   "name": "python3"
  },
  "language_info": {
   "codemirror_mode": {
    "name": "ipython",
    "version": 3
   },
   "file_extension": ".py",
   "mimetype": "text/x-python",
   "name": "python",
   "nbconvert_exporter": "python",
   "pygments_lexer": "ipython3",
   "version": "3.7.3"
  }
 },
 "nbformat": 4,
 "nbformat_minor": 1
}
